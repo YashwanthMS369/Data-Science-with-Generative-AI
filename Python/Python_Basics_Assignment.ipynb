{
  "nbformat": 4,
  "nbformat_minor": 0,
  "metadata": {
    "colab": {
      "provenance": []
    },
    "kernelspec": {
      "name": "python3",
      "display_name": "Python 3"
    },
    "language_info": {
      "name": "python"
    }
  },
  "cells": [
    {
      "cell_type": "markdown",
      "source": [
        "                                     ** Python Basics Questions **\n",
        "\n",
        "1. What is Python, and why is it popular?     \n",
        "\n",
        "   Ans: Python is an Object oriented programming language and also high level interpreted language.                                                         \n",
        "   It is most popular for less complex syntax, user friendly and simplicity.     \n",
        "   Python is popular because of its widely use in the field Data Science due to its mathematical functions and extensive libraries such as numpy, pandas and for its data visualization tools.\n",
        "\n",
        "\n",
        "2. What is an interpreter in Python ?   \n",
        "\n",
        "   Ans: Interpreter is used in python to execute the programs line by line, without the uses of compiler to convert into machine code.\n",
        "\n",
        "\n",
        "3. What are pre-defined keywords in Python?    \n",
        "\n",
        "   Ans: Pre-defined keywords in Python are some special words in Python that have special meaning.\n",
        "\n",
        "  \n",
        "4. Can keywords be used as variable names ?    \n",
        "\n",
        "   Ans: No, we can not use keywords as variable.\n",
        "\n",
        "\n",
        "5. What is mutability in Python ?\n",
        "\n",
        "   Ans: Mutability in Python referes to objects abilities to change or modify.\n",
        "   For examples String, List.\n",
        "\n",
        "\n",
        "6. Why are lists mutable, but tuples are immutable ?\n",
        "   \n",
        "   Ans: Lists objects can be changed and modified hence they are mutable, but incase of tuples we can not modify the object once its created hence they are immutable.\n",
        "\n",
        "\n",
        "7. What is the difference between “==” and “is” operators in Python ?\n",
        "\n",
        "   Ans: \"==\" operator checks for equality of values. \"is\" operator checks whether the objects are pointing to the same memory location.\n",
        "\n",
        "\n",
        "8. What are logical operators in Python ?\n",
        "\n",
        "   Ans: Logical operators performs logical operation on operands by combining them and returs true or false.\n",
        "\n",
        "\n",
        "9. What is type casting in Python ?\n",
        "   \n",
        "   Ans: Type casting is a method to convert the data types of the variables to another data type.\n",
        "\n",
        "10. What is the difference between implicit and explicit type casting ?\n",
        "\n",
        "    Ans: Implicit type casting happens automatically when converting data types, while explicit type casting requires a manual instruction from the programmer to convert a value from one type to another.\n",
        "\n",
        "\n",
        "11. What is the purpose of conditional statements in Python ?\n",
        "\n",
        "    Ans: Conditional statements in Python are used to control the flow of a program based on whether certain conditions are true or false.\n",
        "\n",
        "\n",
        "12. How does the elif statement work ?\n",
        "\n",
        "    Ans: \"elif\" stands for \"else if\", it used in mutliple conditional statements. If elif is true then executes the current block, if false then skips the current block and moves to next condition.\n",
        "\n",
        "13. What is the difference between for and while loops ?\n",
        "\n",
        "    Ans: 'for' loops are typically used when you know how many times you want to iterate or when you need to process each element of a sequence, while while loops are used when you want to repeat a block of code until a certain condition is met, which may not be a predetermined number of times.\n",
        "\n",
        "14. Describe a scenario where a while loop is more suitable than a for loop.\n",
        "\n",
        "    Ans: 'for' loop, which is generally used when the number of iterations is known beforehand, a 'while' loop is ideal for situations where the number of iterations is not predetermined.\n"
      ],
      "metadata": {
        "id": "ejGiXfeq6bP-"
      }
    },
    {
      "cell_type": "markdown",
      "source": [
        "                                     ** Practical Questions **"
      ],
      "metadata": {
        "id": "YQ2-SF53LKqo"
      }
    },
    {
      "cell_type": "code",
      "source": [
        "'''\n",
        "1. Write a Python program to print \"Hello, World!\"\n",
        "'''\n",
        "print(\"Hello, World!\")"
      ],
      "metadata": {
        "colab": {
          "base_uri": "https://localhost:8080/"
        },
        "id": "nr9OnghJLXFr",
        "outputId": "82b55e03-462c-45e8-c1c8-e128a54bfa40"
      },
      "execution_count": 3,
      "outputs": [
        {
          "output_type": "stream",
          "name": "stdout",
          "text": [
            "Hello, World!\n"
          ]
        }
      ]
    },
    {
      "cell_type": "code",
      "source": [
        "'''\n",
        "2. Write a Python program that displays your name and age8\n",
        "'''\n",
        "Name, Age =\"Yashwanth M S\",22\n",
        "print(f\"My name is {Name} and my age is {Age}\")"
      ],
      "metadata": {
        "colab": {
          "base_uri": "https://localhost:8080/"
        },
        "id": "x2m73GsALtAj",
        "outputId": "03f586b9-45de-472e-bca6-2a257ca8ddf7"
      },
      "execution_count": 7,
      "outputs": [
        {
          "output_type": "stream",
          "name": "stdout",
          "text": [
            "My name is Yashwanth M S and my age is 22\n"
          ]
        }
      ]
    },
    {
      "cell_type": "code",
      "source": [
        "'''\n",
        "3. Write code to print all the pre-defined keywords in Python using the keyword library.\n",
        "'''\n",
        "import keyword\n",
        "\n",
        "print(keyword.kwlist)\n"
      ],
      "metadata": {
        "colab": {
          "base_uri": "https://localhost:8080/"
        },
        "id": "Gwge8Ba8MErR",
        "outputId": "9430e256-a3aa-4873-bf71-7bdfdbf2f450"
      },
      "execution_count": 9,
      "outputs": [
        {
          "output_type": "stream",
          "name": "stdout",
          "text": [
            "['False', 'None', 'True', 'and', 'as', 'assert', 'async', 'await', 'break', 'class', 'continue', 'def', 'del', 'elif', 'else', 'except', 'finally', 'for', 'from', 'global', 'if', 'import', 'in', 'is', 'lambda', 'nonlocal', 'not', 'or', 'pass', 'raise', 'return', 'try', 'while', 'with', 'yield']\n"
          ]
        }
      ]
    },
    {
      "cell_type": "code",
      "source": [
        "'''\n",
        "4. Write a program that checks if a given word is a Python keyword.\n",
        "'''\n",
        "import keyword\n",
        "w=input(\"Enter the word \")\n",
        "if keyword.iskeyword(w):\n",
        "    print(f\"'{w}' is a Python keyword.\")\n",
        "else:\n",
        "    print(f\"'{w}' is not a Python keyword.\")\n"
      ],
      "metadata": {
        "colab": {
          "base_uri": "https://localhost:8080/"
        },
        "id": "bWJUlf0XNNBi",
        "outputId": "ea3b6e32-0e88-4551-c2f0-f243bf1c8b01"
      },
      "execution_count": 12,
      "outputs": [
        {
          "output_type": "stream",
          "name": "stdout",
          "text": [
            "Enter the word yes\n",
            "'yes' is not a Python keyword.\n"
          ]
        }
      ]
    },
    {
      "cell_type": "code",
      "source": [
        "'''\n",
        "5. Create a list and tuple in Python, and demonstrate how attempting to change an element works differently\n",
        "for each\n",
        "'''\n",
        "\n",
        "List=[4, 5, 'yash']\n",
        "Tuple=(4,5,'yash')\n",
        "\n",
        "#Trying to modify list\n",
        "try:\n",
        "  List[1]=6 #Gives no error, modification can be done\n",
        "except:\n",
        "  print(\"Error while modifying list\")\n",
        "\n",
        "print(f\"List elements are {List} \")\n",
        "\n",
        "#Trying to modify tuple\n",
        "try:\n",
        "  Tuple[1]=6\n",
        "except:\n",
        "  print(\"Error while modifying tuple \")# Gives an error, modification not allowed\n",
        "\n",
        "print(f\"Tuple elements are {Tuple} \")"
      ],
      "metadata": {
        "colab": {
          "base_uri": "https://localhost:8080/"
        },
        "id": "HSNGGi35Nuvn",
        "outputId": "258c11a8-7099-4200-e849-f7d441687747"
      },
      "execution_count": 21,
      "outputs": [
        {
          "output_type": "stream",
          "name": "stdout",
          "text": [
            "List elements are [4, 6, 'yash'] \n",
            "Error while modifying tuple \n",
            "Tuple elements are (4, 5, 'yash') \n"
          ]
        }
      ]
    },
    {
      "cell_type": "code",
      "source": [
        "'''\n",
        "6. Write a function to demonstrate the behavior of mutable and immutable arguments.\n",
        "'''\n",
        "immutable_argument=4\n",
        "mutable_argument=[1,2,3]\n",
        "\n",
        "def modify_arguments(mutable_argument, immutable_argument):\n",
        "\n",
        "  # Try to modify Mutable argument\n",
        "  mutable_argument=mutable_argument*2\n",
        "\n",
        "  # Try to modify immutable argument\n",
        "  immutable_argument[1]='yash'\n",
        "\n",
        "print(f\"Before immutable argument: {immutable_argument}\")\n",
        "print(f\"Before mutable argument: {mutable_argument}\")\n",
        "\n",
        "modify_arguments(immutable_argument, mutable_argument)\n",
        "\n",
        "print(f\"After function call, immutable argument: {immutable_argument}\")\n",
        "print(f\"After function call, mutable argument: {mutable_argument}\")"
      ],
      "metadata": {
        "colab": {
          "base_uri": "https://localhost:8080/"
        },
        "id": "Wcask7lDQBaC",
        "outputId": "f365ce5a-5c87-4ef8-c720-e386c60e78eb"
      },
      "execution_count": 24,
      "outputs": [
        {
          "output_type": "stream",
          "name": "stdout",
          "text": [
            "Before immutable argument: 4\n",
            "Before mutable argument: [1, 2, 3]\n",
            "After function call, immutable argument: 4\n",
            "After function call, mutable argument: [1, 'yash', 3]\n"
          ]
        }
      ]
    },
    {
      "cell_type": "code",
      "source": [
        "'''\n",
        "7. Write a program that performs basic arithmetic operations on two user-input numbers.\n",
        "'''\n",
        "import builtins\n",
        "\n",
        "operand_1=builtins.int(input(\"Enter the value of 1st operand \"))\n",
        "operand_2=builtins.int(input(\"Enter the value of 2nd operand \"))\n",
        "\n",
        "print(f\"Addition of 2 operands are {operand_1+operand_2}\")\n",
        "print(f\"Subtraction of 2 operands are {operand_1-operand_2}\")\n",
        "print(f\"Multiplication  of 2 operands are {operand_1*operand_2}\")\n",
        "print(f\"Division of 2 operands are {operand_1/operand_2}\")\n",
        "print(f\"Modulo or Reminder of 2 operands are {operand_1%operand_2}\")"
      ],
      "metadata": {
        "colab": {
          "base_uri": "https://localhost:8080/"
        },
        "id": "JvUOkBBMSNzx",
        "outputId": "c5b8a2eb-4443-4fb5-e4cd-f3a698b8b024"
      },
      "execution_count": 29,
      "outputs": [
        {
          "output_type": "stream",
          "name": "stdout",
          "text": [
            "Enter the value of 1st operand 6\n",
            "Enter the value of 2nd operand 4\n",
            "Addition of 2 operands are 10\n",
            "Subtraction of 2 operands are 2\n",
            "Multiplication  of 2 operands are 24\n",
            "Division of 2 operands are 1.5\n",
            "Modulo or Reminder of 2 operands are 2\n"
          ]
        }
      ]
    },
    {
      "cell_type": "code",
      "source": [
        "'''\n",
        "8. Write a program to demonstrate the use of logical operators.\n",
        "'''\n",
        "condition_1=True\n",
        "condition_2=False\n",
        "\n",
        "def logical_operator_and(condition_1, condition_2):\n",
        "  if condition_1 and condition_2:\n",
        "    print(\"Both conditions are true\")\n",
        "  else:\n",
        "    print(\"At least one condition is false\")\n",
        "\n",
        "def logical_operator_or(condition_1, condition_2):\n",
        "  if condition_1 or condition_2:\n",
        "    print(\"At least one condition is true\")\n",
        "  else:\n",
        "    print(\"Both conditions are false\")\n",
        "\n",
        "def logical_operator_not(condition_1):\n",
        "  if not condition_1:\n",
        "    print(\"Condition is false\")\n",
        "  else:\n",
        "    print(\"Condition is true\")\n",
        "\n",
        "logical_operator_and(condition_1,condition_2) # True and False\n",
        "logical_operator_and(condition_1,condition_1) # True and True\n",
        "logical_operator_or(condition_1, condition_2) # True or False\n",
        "logical_operator_or(condition_2, condition_2) # False or False\n",
        "logical_operator_not(condition_1)             # not True\n",
        "logical_operator_not(condition_2)             # not False"
      ],
      "metadata": {
        "colab": {
          "base_uri": "https://localhost:8080/"
        },
        "id": "-m2mJxkRS1ac",
        "outputId": "5b5b14c9-bf9a-4af3-f296-46bd3eb7ced1"
      },
      "execution_count": 34,
      "outputs": [
        {
          "output_type": "stream",
          "name": "stdout",
          "text": [
            "At least one condition is false\n",
            "Both conditions are true\n",
            "At least one condition is true\n",
            "Both conditions are false\n",
            "Condition is true\n",
            "Condition is false\n"
          ]
        }
      ]
    },
    {
      "cell_type": "code",
      "source": [
        "\"\"\"\n",
        "9. Write a Python program to convert user input from string to integer, float, and boolean types.\n",
        "\"\"\"\n",
        "import builtins\n",
        "\n",
        "int_operand=builtins.int(input(\"Enter the value of int operand \"))\n",
        "float_operand=float(input(\"Enter the value of float operand \"))\n",
        "bool_operand=bool(input(\"Enter the value of bool operand \"))\n",
        "\n",
        "print(f\"Integer value is {int_operand}\")\n",
        "print(f\"Float value is {float_operand}\")\n",
        "print(f\"Boolean value is {bool_operand}\")"
      ],
      "metadata": {
        "colab": {
          "base_uri": "https://localhost:8080/"
        },
        "id": "5YT9Oj5eZJqp",
        "outputId": "2f27ce67-f6d1-4883-c717-7b54c62d1a75"
      },
      "execution_count": 38,
      "outputs": [
        {
          "output_type": "stream",
          "name": "stdout",
          "text": [
            "Enter the value of int operand 2\n",
            "Enter the value of float operand 3\n",
            "Enter the value of bool operand \n",
            "Integer value is 2\n",
            "Float value is 3.0\n",
            "Boolean value is False\n"
          ]
        }
      ]
    },
    {
      "cell_type": "code",
      "source": [
        "\"\"\"\n",
        "10. Write code to demonstrate type casting with list elements.\n",
        "\"\"\"\n",
        "\n",
        "import builtins\n",
        "\n",
        "my_list = [\"123\", \"4.56\", 789, True]\n",
        "\n",
        "casted_list = []\n",
        "\n",
        "# Type casting if str and bool\n",
        "for item in my_list:\n",
        "    if isinstance(item, str):\n",
        "        try:\n",
        "            casted_item = builtins.int(item)  # Try to convert to integer first\n",
        "        except ValueError:\n",
        "            try:\n",
        "                casted_item = float(item) # If not integer, try float\n",
        "            except ValueError:\n",
        "                casted_item = item # If not float, keep as is\n",
        "    elif isinstance(item, bool):\n",
        "        casted_item = builtins.int(item) # Boolean to integer\n",
        "    else:\n",
        "        casted_item = item # Keep other types as they are\n",
        "    casted_list.append(casted_item)\n",
        "\n",
        "# Print the original and casted lists\n",
        "print(\"Original List:\", my_list)\n",
        "print(\"Casted List:\", casted_list)"
      ],
      "metadata": {
        "colab": {
          "base_uri": "https://localhost:8080/"
        },
        "id": "2O_nVf14aGGC",
        "outputId": "999b57ba-d6a3-49a5-ab17-232ca5977deb"
      },
      "execution_count": 42,
      "outputs": [
        {
          "output_type": "stream",
          "name": "stdout",
          "text": [
            "Original List: ['123', '4.56', 789, True]\n",
            "Casted List: [123, 4.56, 789, 1]\n"
          ]
        }
      ]
    },
    {
      "cell_type": "code",
      "source": [
        "\"\"\" 11. Write a program that checks if a number is positive, negative, or zero.\"\"\"\n",
        "\n",
        "import builtins\n",
        "number=builtins.int(input(\"Enter the number \"))\n",
        "\n",
        "if number>0:\n",
        "  print(\"Number is positive\")\n",
        "elif number<0:\n",
        "  print(\"Number is negative\")\n",
        "else:\n",
        "  print(\"Number is zero\")"
      ],
      "metadata": {
        "colab": {
          "base_uri": "https://localhost:8080/"
        },
        "id": "NGLNMy0Cb10y",
        "outputId": "b95b33b7-ba5b-44b1-ebce-8c0728bdf3a3"
      },
      "execution_count": 45,
      "outputs": [
        {
          "output_type": "stream",
          "name": "stdout",
          "text": [
            "Enter the number 3\n",
            "Number is positive\n"
          ]
        }
      ]
    },
    {
      "cell_type": "code",
      "source": [
        "\"\"\"12. Write a for loop to print numbers from 1 to 10.\"\"\"\n",
        "for i in range(1,11):\n",
        "  print(i, end=\" \")\n"
      ],
      "metadata": {
        "colab": {
          "base_uri": "https://localhost:8080/"
        },
        "id": "Ly8QsI_UcCje",
        "outputId": "6b82214c-f63d-4ba3-d21d-b1a622743712"
      },
      "execution_count": 48,
      "outputs": [
        {
          "output_type": "stream",
          "name": "stdout",
          "text": [
            "1 2 3 4 5 6 7 8 9 10 "
          ]
        }
      ]
    },
    {
      "cell_type": "code",
      "source": [
        "\"\"\" 13. Write a Python program to find the sum of all even numbers between 1 and 50.\"\"\"\n",
        "sum=0\n",
        "for i in range(1,50):\n",
        "  if i%2==0:\n",
        "    sum+=i\n",
        "print(f\"The sum of all even numbers are {sum}\")"
      ],
      "metadata": {
        "colab": {
          "base_uri": "https://localhost:8080/"
        },
        "id": "xDWgAgiscZNl",
        "outputId": "6fd04944-f351-4edb-9b8b-dc278dd54761"
      },
      "execution_count": 50,
      "outputs": [
        {
          "output_type": "stream",
          "name": "stdout",
          "text": [
            "The sum of all even numbers are 600\n"
          ]
        }
      ]
    },
    {
      "cell_type": "code",
      "source": [
        "\"\"\" 14. Write a program to reverse a string using a while loop \"\"\"\n",
        "\n",
        "original_string=input(\"Enter the string \")\n",
        "reversed_string = \"\"\n",
        "\n",
        "index = len(original_string) - 1\n",
        "\n",
        "while index >= 0:\n",
        "    reversed_string += original_string[index]\n",
        "    index -= 1\n",
        "\n",
        "print(\"Reversed string:\", reversed_string)\n"
      ],
      "metadata": {
        "colab": {
          "base_uri": "https://localhost:8080/"
        },
        "id": "RpqNetfzcv2v",
        "outputId": "b4ebe33b-dfc2-44e1-8aa7-ca3dbe8e5916"
      },
      "execution_count": 53,
      "outputs": [
        {
          "output_type": "stream",
          "name": "stdout",
          "text": [
            "Enter the string yashwanth\n",
            "Reversed string: htnawhsay\n"
          ]
        }
      ]
    },
    {
      "cell_type": "code",
      "source": [
        "\"\"\" 15. Write a Python program to calculate the factorial of a number provided by the user using a while loop \"\"\"\n",
        "\n",
        "import builtins\n",
        "\n",
        "user_input=builtins.int(input(\"Enter the number \"))\n",
        "copy_user_input=user_input\n",
        "factorial=1\n",
        "\n",
        "while(copy_user_input>0):\n",
        "  factorial*=copy_user_input\n",
        "  copy_user_input-=1\n",
        "\n",
        "print(f\"Factorial of {user_input} is {factorial}\")"
      ],
      "metadata": {
        "colab": {
          "base_uri": "https://localhost:8080/"
        },
        "id": "8aJ8fDcSeCvQ",
        "outputId": "95f42aed-c66a-4267-874d-3ac4d082460f"
      },
      "execution_count": 59,
      "outputs": [
        {
          "output_type": "stream",
          "name": "stdout",
          "text": [
            "Enter the number 2\n",
            "Factorial of 2 is 2\n"
          ]
        }
      ]
    },
    {
      "cell_type": "code",
      "source": [],
      "metadata": {
        "id": "qDU6GZuVfiiM"
      },
      "execution_count": null,
      "outputs": []
    }
  ]
}